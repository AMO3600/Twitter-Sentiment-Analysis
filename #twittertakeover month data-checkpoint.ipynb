{
 "cells": [
  {
   "cell_type": "markdown",
   "id": "3c46b3d4",
   "metadata": {},
   "source": [
    "# Sentiment  and Time-Series Analysis of #TwitterTakeover"
   ]
  },
  {
   "cell_type": "markdown",
   "id": "1b15219c",
   "metadata": {},
   "source": [
    "## Installing Packages"
   ]
  },
  {
   "cell_type": "code",
   "execution_count": 1,
   "id": "7ac5f1ee",
   "metadata": {
    "scrolled": true
   },
   "outputs": [
    {
     "name": "stdout",
     "output_type": "stream",
     "text": [
      "Defaulting to user installation because normal site-packages is not writeable\n",
      "Requirement already satisfied: snscrape in c:\\users\\abdirahmanmohamedoma\\appdata\\roaming\\python\\python39\\site-packages (0.4.3.20220106)\n",
      "Requirement already satisfied: requests[socks] in c:\\programdata\\anaconda3\\lib\\site-packages (from snscrape) (2.27.1)\n",
      "Requirement already satisfied: filelock in c:\\programdata\\anaconda3\\lib\\site-packages (from snscrape) (3.6.0)\n",
      "Requirement already satisfied: beautifulsoup4 in c:\\programdata\\anaconda3\\lib\\site-packages (from snscrape) (4.11.1)\n",
      "Requirement already satisfied: lxml in c:\\programdata\\anaconda3\\lib\\site-packages (from snscrape) (4.8.0)\n",
      "Requirement already satisfied: soupsieve>1.2 in c:\\programdata\\anaconda3\\lib\\site-packages (from beautifulsoup4->snscrape) (2.3.1)\n",
      "Requirement already satisfied: urllib3<1.27,>=1.21.1 in c:\\programdata\\anaconda3\\lib\\site-packages (from requests[socks]->snscrape) (1.26.9)\n",
      "Requirement already satisfied: charset-normalizer~=2.0.0 in c:\\programdata\\anaconda3\\lib\\site-packages (from requests[socks]->snscrape) (2.0.4)\n",
      "Requirement already satisfied: idna<4,>=2.5 in c:\\programdata\\anaconda3\\lib\\site-packages (from requests[socks]->snscrape) (3.3)\n",
      "Requirement already satisfied: certifi>=2017.4.17 in c:\\programdata\\anaconda3\\lib\\site-packages (from requests[socks]->snscrape) (2021.10.8)\n",
      "Requirement already satisfied: PySocks!=1.5.7,>=1.5.6 in c:\\programdata\\anaconda3\\lib\\site-packages (from requests[socks]->snscrape) (1.7.1)\n"
     ]
    }
   ],
   "source": [
    "#snscrape is a python library that scrapes info from social media sites including twitter\n",
    "!pip install snscrape"
   ]
  },
  {
   "cell_type": "code",
   "execution_count": 2,
   "id": "953cffa7",
   "metadata": {},
   "outputs": [
    {
     "name": "stdout",
     "output_type": "stream",
     "text": [
      "Defaulting to user installation because normal site-packages is not writeable\n",
      "Requirement already satisfied: langdetect in c:\\users\\abdirahmanmohamedoma\\appdata\\roaming\\python\\python39\\site-packages (1.0.9)\n",
      "Requirement already satisfied: six in c:\\programdata\\anaconda3\\lib\\site-packages (from langdetect) (1.16.0)\n"
     ]
    }
   ],
   "source": [
    "#Langdetect is a python library that detects languages from text\n",
    "#My usecase is to detect and filter english tweets\n",
    "!pip install langdetect"
   ]
  },
  {
   "cell_type": "code",
   "execution_count": 3,
   "id": "9687e6a4",
   "metadata": {},
   "outputs": [
    {
     "name": "stdout",
     "output_type": "stream",
     "text": [
      "Defaulting to user installation because normal site-packages is not writeable\n",
      "Requirement already satisfied: wordcloud in c:\\users\\abdirahmanmohamedoma\\appdata\\roaming\\python\\python39\\site-packages (1.8.2.2)\n",
      "Requirement already satisfied: numpy>=1.6.1 in c:\\programdata\\anaconda3\\lib\\site-packages (from wordcloud) (1.21.5)\n",
      "Requirement already satisfied: matplotlib in c:\\programdata\\anaconda3\\lib\\site-packages (from wordcloud) (3.5.1)\n",
      "Requirement already satisfied: pillow in c:\\programdata\\anaconda3\\lib\\site-packages (from wordcloud) (9.0.1)\n",
      "Requirement already satisfied: kiwisolver>=1.0.1 in c:\\programdata\\anaconda3\\lib\\site-packages (from matplotlib->wordcloud) (1.3.2)\n",
      "Requirement already satisfied: cycler>=0.10 in c:\\programdata\\anaconda3\\lib\\site-packages (from matplotlib->wordcloud) (0.11.0)\n",
      "Requirement already satisfied: python-dateutil>=2.7 in c:\\programdata\\anaconda3\\lib\\site-packages (from matplotlib->wordcloud) (2.8.2)\n",
      "Requirement already satisfied: pyparsing>=2.2.1 in c:\\programdata\\anaconda3\\lib\\site-packages (from matplotlib->wordcloud) (3.0.4)\n",
      "Requirement already satisfied: packaging>=20.0 in c:\\programdata\\anaconda3\\lib\\site-packages (from matplotlib->wordcloud) (21.3)\n",
      "Requirement already satisfied: fonttools>=4.22.0 in c:\\programdata\\anaconda3\\lib\\site-packages (from matplotlib->wordcloud) (4.25.0)\n",
      "Requirement already satisfied: six>=1.5 in c:\\programdata\\anaconda3\\lib\\site-packages (from python-dateutil>=2.7->matplotlib->wordcloud) (1.16.0)\n"
     ]
    }
   ],
   "source": [
    "#A little word cloud generator in Python\n",
    "!pip install wordcloud"
   ]
  },
  {
   "cell_type": "markdown",
   "id": "be39742f",
   "metadata": {},
   "source": [
    "## Importing Packages"
   ]
  },
  {
   "cell_type": "code",
   "execution_count": 4,
   "id": "b773caf4",
   "metadata": {},
   "outputs": [],
   "source": [
    "#Importing snscrape package for twitter\n",
    "import snscrape.modules.twitter as sntwitter"
   ]
  },
  {
   "cell_type": "code",
   "execution_count": 5,
   "id": "3c36751c",
   "metadata": {},
   "outputs": [],
   "source": [
    "#Importing Pandas,Numpy,Seaborn and Matplotlib\n",
    "import pandas as pd\n",
    "import numpy as np\n",
    "import seaborn as sns\n",
    "import matplotlib.pyplot as plt"
   ]
  },
  {
   "cell_type": "code",
   "execution_count": 6,
   "id": "c19809c9",
   "metadata": {},
   "outputs": [],
   "source": [
    "#NLTK is a leading platform for building Python programs to work with human language data.\n",
    "import nltk"
   ]
  },
  {
   "cell_type": "code",
   "execution_count": 7,
   "id": "6c7d5178",
   "metadata": {},
   "outputs": [
    {
     "name": "stderr",
     "output_type": "stream",
     "text": [
      "[nltk_data] Downloading package stopwords to\n",
      "[nltk_data]     C:\\Users\\AbdirahmanMohamedOma\\AppData\\Roaming\\nltk_dat\n",
      "[nltk_data]     a...\n",
      "[nltk_data]   Package stopwords is already up-to-date!\n"
     ]
    }
   ],
   "source": [
    "#A RegEx, or Regular Expression, is a sequence of characters that forms a search pattern.\n",
    "#RegEx can be used to check if a string contains the specified search pattern.\n",
    "import re\n",
    "from nltk.corpus import stopwords\n",
    "nltk.download('stopwords')\n",
    "from nltk.tokenize import word_tokenize"
   ]
  },
  {
   "cell_type": "code",
   "execution_count": 8,
   "id": "32989be5",
   "metadata": {},
   "outputs": [],
   "source": [
    "from wordcloud import WordCloud,STOPWORDS\n",
    "import textblob\n",
    "from textblob import Word, TextBlob\n",
    "from nltk.sentiment.vader import SentimentIntensityAnalyzer"
   ]
  },
  {
   "cell_type": "markdown",
   "id": "6f175984",
   "metadata": {},
   "source": [
    "## Scraping Using Snscrape"
   ]
  },
  {
   "cell_type": "code",
   "execution_count": 9,
   "id": "81b3dcec",
   "metadata": {},
   "outputs": [],
   "source": [
    "#Specifying the scrape target hashtag in query variable\n",
    "#Specifying the dates to scrape from in query variable\n",
    "#Creating an empty list for tweets to append info in future\n",
    "#limiting tweets to 70,000 as a maximum may not reach that number\n",
    "query='#twittertakeover since:2022-10-27 until:2022-11-27'\n",
    "tweets=[]\n",
    "limit=70000"
   ]
  },
  {
   "cell_type": "code",
   "execution_count": 10,
   "id": "ed196320",
   "metadata": {},
   "outputs": [],
   "source": [
    "#Create for loop to scrape tweets in my query\n",
    "#loop will break if the number of tweets scraped==limit\n",
    "#loop will also break if query request has been met\n",
    "#else function appends specific tweet info into above empty list as long as it hasnt fulfilled the request or reached limit\n",
    "#dataframe created using tweets list and specified columns\n",
    "for tweet in sntwitter.TwitterSearchScraper(query).get_items():\n",
    "    if len(tweets)==limit:\n",
    "        break\n",
    "    else:\n",
    "        tweets.append([tweet.date,tweet.user.username,tweet.content,tweet.likeCount,tweet.retweetCount,tweet.media])\n",
    "df=pd.DataFrame(tweets,columns=['Date','User','Tweets','like count','retweet count','media'])"
   ]
  },
  {
   "cell_type": "code",
   "execution_count": 21,
   "id": "b101d82f",
   "metadata": {},
   "outputs": [
    {
     "data": {
      "text/html": [
       "<div>\n",
       "<style scoped>\n",
       "    .dataframe tbody tr th:only-of-type {\n",
       "        vertical-align: middle;\n",
       "    }\n",
       "\n",
       "    .dataframe tbody tr th {\n",
       "        vertical-align: top;\n",
       "    }\n",
       "\n",
       "    .dataframe thead th {\n",
       "        text-align: right;\n",
       "    }\n",
       "</style>\n",
       "<table border=\"1\" class=\"dataframe\">\n",
       "  <thead>\n",
       "    <tr style=\"text-align: right;\">\n",
       "      <th></th>\n",
       "      <th>Date</th>\n",
       "      <th>User</th>\n",
       "      <th>Tweets</th>\n",
       "      <th>like count</th>\n",
       "      <th>retweet count</th>\n",
       "    </tr>\n",
       "  </thead>\n",
       "  <tbody>\n",
       "    <tr>\n",
       "      <th>0</th>\n",
       "      <td>2022-11-26 23:55:44+00:00</td>\n",
       "      <td>mrbigkyle</td>\n",
       "      <td>Trick shot final kill\\n\\n#CallofDuty #ModernWa...</td>\n",
       "      <td>6</td>\n",
       "      <td>2</td>\n",
       "    </tr>\n",
       "    <tr>\n",
       "      <th>1</th>\n",
       "      <td>2022-11-26 23:52:54+00:00</td>\n",
       "      <td>rogerokeeffe</td>\n",
       "      <td>Looks as if Irish #Mastodon is NOT the place t...</td>\n",
       "      <td>2</td>\n",
       "      <td>0</td>\n",
       "    </tr>\n",
       "    <tr>\n",
       "      <th>2</th>\n",
       "      <td>2022-11-26 23:47:04+00:00</td>\n",
       "      <td>Jose28396145</td>\n",
       "      <td>It shouldn’t be that hard #TwitterTakeover</td>\n",
       "      <td>0</td>\n",
       "      <td>0</td>\n",
       "    </tr>\n",
       "    <tr>\n",
       "      <th>3</th>\n",
       "      <td>2022-11-26 23:39:04+00:00</td>\n",
       "      <td>LetMeBeFranketh</td>\n",
       "      <td>If You Can Spend $8 @Starbucks \\nYou Can Spend...</td>\n",
       "      <td>15</td>\n",
       "      <td>3</td>\n",
       "    </tr>\n",
       "    <tr>\n",
       "      <th>4</th>\n",
       "      <td>2022-11-26 23:26:14+00:00</td>\n",
       "      <td>JuliejTarot</td>\n",
       "      <td>@DeppSoldier_22 I do. That’s why #AmberHeardls...</td>\n",
       "      <td>1</td>\n",
       "      <td>0</td>\n",
       "    </tr>\n",
       "    <tr>\n",
       "      <th>...</th>\n",
       "      <td>...</td>\n",
       "      <td>...</td>\n",
       "      <td>...</td>\n",
       "      <td>...</td>\n",
       "      <td>...</td>\n",
       "    </tr>\n",
       "    <tr>\n",
       "      <th>60383</th>\n",
       "      <td>2022-10-27 01:01:50+00:00</td>\n",
       "      <td>thedailygripe_</td>\n",
       "      <td>@libsoftiktok @elonmusk #Memes #Memelords #Mem...</td>\n",
       "      <td>61</td>\n",
       "      <td>18</td>\n",
       "    </tr>\n",
       "    <tr>\n",
       "      <th>60384</th>\n",
       "      <td>2022-10-27 01:01:05+00:00</td>\n",
       "      <td>NationFirstAust</td>\n",
       "      <td>Hey @elonmusk — if you need to someone to head...</td>\n",
       "      <td>4</td>\n",
       "      <td>0</td>\n",
       "    </tr>\n",
       "    <tr>\n",
       "      <th>60385</th>\n",
       "      <td>2022-10-27 00:30:12+00:00</td>\n",
       "      <td>LaLaLand1974</td>\n",
       "      <td>Soon as @elonmusk is done it’s no longer Twitt...</td>\n",
       "      <td>2</td>\n",
       "      <td>0</td>\n",
       "    </tr>\n",
       "    <tr>\n",
       "      <th>60386</th>\n",
       "      <td>2022-10-27 00:23:14+00:00</td>\n",
       "      <td>lildiamondgoat</td>\n",
       "      <td>@elonmusk be pulling up to the twitter HQ. Let...</td>\n",
       "      <td>0</td>\n",
       "      <td>0</td>\n",
       "    </tr>\n",
       "    <tr>\n",
       "      <th>60387</th>\n",
       "      <td>2022-10-27 00:10:38+00:00</td>\n",
       "      <td>RechteMeinung</td>\n",
       "      <td>Unser Erlöser und Retter! Gerade rechtzeitig f...</td>\n",
       "      <td>0</td>\n",
       "      <td>0</td>\n",
       "    </tr>\n",
       "  </tbody>\n",
       "</table>\n",
       "<p>60388 rows × 5 columns</p>\n",
       "</div>"
      ],
      "text/plain": [
       "                           Date             User  \\\n",
       "0     2022-11-26 23:55:44+00:00        mrbigkyle   \n",
       "1     2022-11-26 23:52:54+00:00     rogerokeeffe   \n",
       "2     2022-11-26 23:47:04+00:00     Jose28396145   \n",
       "3     2022-11-26 23:39:04+00:00  LetMeBeFranketh   \n",
       "4     2022-11-26 23:26:14+00:00      JuliejTarot   \n",
       "...                         ...              ...   \n",
       "60383 2022-10-27 01:01:50+00:00   thedailygripe_   \n",
       "60384 2022-10-27 01:01:05+00:00  NationFirstAust   \n",
       "60385 2022-10-27 00:30:12+00:00     LaLaLand1974   \n",
       "60386 2022-10-27 00:23:14+00:00   lildiamondgoat   \n",
       "60387 2022-10-27 00:10:38+00:00    RechteMeinung   \n",
       "\n",
       "                                                  Tweets  like count  \\\n",
       "0      Trick shot final kill\\n\\n#CallofDuty #ModernWa...           6   \n",
       "1      Looks as if Irish #Mastodon is NOT the place t...           2   \n",
       "2             It shouldn’t be that hard #TwitterTakeover           0   \n",
       "3      If You Can Spend $8 @Starbucks \\nYou Can Spend...          15   \n",
       "4      @DeppSoldier_22 I do. That’s why #AmberHeardls...           1   \n",
       "...                                                  ...         ...   \n",
       "60383  @libsoftiktok @elonmusk #Memes #Memelords #Mem...          61   \n",
       "60384  Hey @elonmusk — if you need to someone to head...           4   \n",
       "60385  Soon as @elonmusk is done it’s no longer Twitt...           2   \n",
       "60386  @elonmusk be pulling up to the twitter HQ. Let...           0   \n",
       "60387  Unser Erlöser und Retter! Gerade rechtzeitig f...           0   \n",
       "\n",
       "       retweet count  \n",
       "0                  2  \n",
       "1                  0  \n",
       "2                  0  \n",
       "3                  3  \n",
       "4                  0  \n",
       "...              ...  \n",
       "60383             18  \n",
       "60384              0  \n",
       "60385              0  \n",
       "60386              0  \n",
       "60387              0  \n",
       "\n",
       "[60388 rows x 5 columns]"
      ]
     },
     "execution_count": 21,
     "metadata": {},
     "output_type": "execute_result"
    }
   ],
   "source": [
    "#df=df.drop(['media'],axis=1)\n",
    "df"
   ]
  },
  {
   "cell_type": "markdown",
   "id": "bfbc7cfd",
   "metadata": {},
   "source": [
    "## Data Exploration"
   ]
  },
  {
   "cell_type": "code",
   "execution_count": 22,
   "id": "e95c77f0",
   "metadata": {},
   "outputs": [
    {
     "data": {
      "text/html": [
       "<div>\n",
       "<style scoped>\n",
       "    .dataframe tbody tr th:only-of-type {\n",
       "        vertical-align: middle;\n",
       "    }\n",
       "\n",
       "    .dataframe tbody tr th {\n",
       "        vertical-align: top;\n",
       "    }\n",
       "\n",
       "    .dataframe thead th {\n",
       "        text-align: right;\n",
       "    }\n",
       "</style>\n",
       "<table border=\"1\" class=\"dataframe\">\n",
       "  <thead>\n",
       "    <tr style=\"text-align: right;\">\n",
       "      <th></th>\n",
       "      <th>Date</th>\n",
       "      <th>User</th>\n",
       "      <th>Tweets</th>\n",
       "      <th>like count</th>\n",
       "      <th>retweet count</th>\n",
       "    </tr>\n",
       "  </thead>\n",
       "  <tbody>\n",
       "    <tr>\n",
       "      <th>0</th>\n",
       "      <td>2022-11-26 23:55:44+00:00</td>\n",
       "      <td>mrbigkyle</td>\n",
       "      <td>Trick shot final kill\\n\\n#CallofDuty #ModernWa...</td>\n",
       "      <td>6</td>\n",
       "      <td>2</td>\n",
       "    </tr>\n",
       "    <tr>\n",
       "      <th>1</th>\n",
       "      <td>2022-11-26 23:52:54+00:00</td>\n",
       "      <td>rogerokeeffe</td>\n",
       "      <td>Looks as if Irish #Mastodon is NOT the place t...</td>\n",
       "      <td>2</td>\n",
       "      <td>0</td>\n",
       "    </tr>\n",
       "    <tr>\n",
       "      <th>2</th>\n",
       "      <td>2022-11-26 23:47:04+00:00</td>\n",
       "      <td>Jose28396145</td>\n",
       "      <td>It shouldn’t be that hard #TwitterTakeover</td>\n",
       "      <td>0</td>\n",
       "      <td>0</td>\n",
       "    </tr>\n",
       "    <tr>\n",
       "      <th>3</th>\n",
       "      <td>2022-11-26 23:39:04+00:00</td>\n",
       "      <td>LetMeBeFranketh</td>\n",
       "      <td>If You Can Spend $8 @Starbucks \\nYou Can Spend...</td>\n",
       "      <td>15</td>\n",
       "      <td>3</td>\n",
       "    </tr>\n",
       "    <tr>\n",
       "      <th>4</th>\n",
       "      <td>2022-11-26 23:26:14+00:00</td>\n",
       "      <td>JuliejTarot</td>\n",
       "      <td>@DeppSoldier_22 I do. That’s why #AmberHeardls...</td>\n",
       "      <td>1</td>\n",
       "      <td>0</td>\n",
       "    </tr>\n",
       "  </tbody>\n",
       "</table>\n",
       "</div>"
      ],
      "text/plain": [
       "                       Date             User  \\\n",
       "0 2022-11-26 23:55:44+00:00        mrbigkyle   \n",
       "1 2022-11-26 23:52:54+00:00     rogerokeeffe   \n",
       "2 2022-11-26 23:47:04+00:00     Jose28396145   \n",
       "3 2022-11-26 23:39:04+00:00  LetMeBeFranketh   \n",
       "4 2022-11-26 23:26:14+00:00      JuliejTarot   \n",
       "\n",
       "                                              Tweets  like count  \\\n",
       "0  Trick shot final kill\\n\\n#CallofDuty #ModernWa...           6   \n",
       "1  Looks as if Irish #Mastodon is NOT the place t...           2   \n",
       "2         It shouldn’t be that hard #TwitterTakeover           0   \n",
       "3  If You Can Spend $8 @Starbucks \\nYou Can Spend...          15   \n",
       "4  @DeppSoldier_22 I do. That’s why #AmberHeardls...           1   \n",
       "\n",
       "   retweet count  \n",
       "0              2  \n",
       "1              0  \n",
       "2              0  \n",
       "3              3  \n",
       "4              0  "
      ]
     },
     "execution_count": 22,
     "metadata": {},
     "output_type": "execute_result"
    }
   ],
   "source": [
    "#first 5 rows\n",
    "df.head()"
   ]
  },
  {
   "cell_type": "code",
   "execution_count": 23,
   "id": "f186fcc5",
   "metadata": {},
   "outputs": [
    {
     "data": {
      "text/html": [
       "<div>\n",
       "<style scoped>\n",
       "    .dataframe tbody tr th:only-of-type {\n",
       "        vertical-align: middle;\n",
       "    }\n",
       "\n",
       "    .dataframe tbody tr th {\n",
       "        vertical-align: top;\n",
       "    }\n",
       "\n",
       "    .dataframe thead th {\n",
       "        text-align: right;\n",
       "    }\n",
       "</style>\n",
       "<table border=\"1\" class=\"dataframe\">\n",
       "  <thead>\n",
       "    <tr style=\"text-align: right;\">\n",
       "      <th></th>\n",
       "      <th>Date</th>\n",
       "      <th>User</th>\n",
       "      <th>Tweets</th>\n",
       "      <th>like count</th>\n",
       "      <th>retweet count</th>\n",
       "    </tr>\n",
       "  </thead>\n",
       "  <tbody>\n",
       "    <tr>\n",
       "      <th>60383</th>\n",
       "      <td>2022-10-27 01:01:50+00:00</td>\n",
       "      <td>thedailygripe_</td>\n",
       "      <td>@libsoftiktok @elonmusk #Memes #Memelords #Mem...</td>\n",
       "      <td>61</td>\n",
       "      <td>18</td>\n",
       "    </tr>\n",
       "    <tr>\n",
       "      <th>60384</th>\n",
       "      <td>2022-10-27 01:01:05+00:00</td>\n",
       "      <td>NationFirstAust</td>\n",
       "      <td>Hey @elonmusk — if you need to someone to head...</td>\n",
       "      <td>4</td>\n",
       "      <td>0</td>\n",
       "    </tr>\n",
       "    <tr>\n",
       "      <th>60385</th>\n",
       "      <td>2022-10-27 00:30:12+00:00</td>\n",
       "      <td>LaLaLand1974</td>\n",
       "      <td>Soon as @elonmusk is done it’s no longer Twitt...</td>\n",
       "      <td>2</td>\n",
       "      <td>0</td>\n",
       "    </tr>\n",
       "    <tr>\n",
       "      <th>60386</th>\n",
       "      <td>2022-10-27 00:23:14+00:00</td>\n",
       "      <td>lildiamondgoat</td>\n",
       "      <td>@elonmusk be pulling up to the twitter HQ. Let...</td>\n",
       "      <td>0</td>\n",
       "      <td>0</td>\n",
       "    </tr>\n",
       "    <tr>\n",
       "      <th>60387</th>\n",
       "      <td>2022-10-27 00:10:38+00:00</td>\n",
       "      <td>RechteMeinung</td>\n",
       "      <td>Unser Erlöser und Retter! Gerade rechtzeitig f...</td>\n",
       "      <td>0</td>\n",
       "      <td>0</td>\n",
       "    </tr>\n",
       "  </tbody>\n",
       "</table>\n",
       "</div>"
      ],
      "text/plain": [
       "                           Date             User  \\\n",
       "60383 2022-10-27 01:01:50+00:00   thedailygripe_   \n",
       "60384 2022-10-27 01:01:05+00:00  NationFirstAust   \n",
       "60385 2022-10-27 00:30:12+00:00     LaLaLand1974   \n",
       "60386 2022-10-27 00:23:14+00:00   lildiamondgoat   \n",
       "60387 2022-10-27 00:10:38+00:00    RechteMeinung   \n",
       "\n",
       "                                                  Tweets  like count  \\\n",
       "60383  @libsoftiktok @elonmusk #Memes #Memelords #Mem...          61   \n",
       "60384  Hey @elonmusk — if you need to someone to head...           4   \n",
       "60385  Soon as @elonmusk is done it’s no longer Twitt...           2   \n",
       "60386  @elonmusk be pulling up to the twitter HQ. Let...           0   \n",
       "60387  Unser Erlöser und Retter! Gerade rechtzeitig f...           0   \n",
       "\n",
       "       retweet count  \n",
       "60383             18  \n",
       "60384              0  \n",
       "60385              0  \n",
       "60386              0  \n",
       "60387              0  "
      ]
     },
     "execution_count": 23,
     "metadata": {},
     "output_type": "execute_result"
    }
   ],
   "source": [
    "#last 5 rows\n",
    "df.tail()"
   ]
  },
  {
   "cell_type": "code",
   "execution_count": 24,
   "id": "bd3db361",
   "metadata": {},
   "outputs": [
    {
     "name": "stdout",
     "output_type": "stream",
     "text": [
      "<class 'pandas.core.frame.DataFrame'>\n",
      "RangeIndex: 60388 entries, 0 to 60387\n",
      "Data columns (total 5 columns):\n",
      " #   Column         Non-Null Count  Dtype              \n",
      "---  ------         --------------  -----              \n",
      " 0   Date           60388 non-null  datetime64[ns, UTC]\n",
      " 1   User           60388 non-null  object             \n",
      " 2   Tweets         60388 non-null  object             \n",
      " 3   like count     60388 non-null  int64              \n",
      " 4   retweet count  60388 non-null  int64              \n",
      "dtypes: datetime64[ns, UTC](1), int64(2), object(2)\n",
      "memory usage: 2.3+ MB\n"
     ]
    }
   ],
   "source": [
    "#info on rows and datatypes etc\n",
    "df.info()"
   ]
  },
  {
   "cell_type": "code",
   "execution_count": 25,
   "id": "0a8d9f53",
   "metadata": {},
   "outputs": [
    {
     "data": {
      "text/plain": [
       "(60388, 5)"
      ]
     },
     "execution_count": 25,
     "metadata": {},
     "output_type": "execute_result"
    }
   ],
   "source": [
    "#number of rows and columns\n",
    "df.shape"
   ]
  },
  {
   "cell_type": "code",
   "execution_count": 26,
   "id": "900b8efc",
   "metadata": {},
   "outputs": [
    {
     "data": {
      "text/html": [
       "<div>\n",
       "<style scoped>\n",
       "    .dataframe tbody tr th:only-of-type {\n",
       "        vertical-align: middle;\n",
       "    }\n",
       "\n",
       "    .dataframe tbody tr th {\n",
       "        vertical-align: top;\n",
       "    }\n",
       "\n",
       "    .dataframe thead th {\n",
       "        text-align: right;\n",
       "    }\n",
       "</style>\n",
       "<table border=\"1\" class=\"dataframe\">\n",
       "  <thead>\n",
       "    <tr style=\"text-align: right;\">\n",
       "      <th></th>\n",
       "      <th>like count</th>\n",
       "      <th>retweet count</th>\n",
       "    </tr>\n",
       "  </thead>\n",
       "  <tbody>\n",
       "    <tr>\n",
       "      <th>count</th>\n",
       "      <td>60388.000000</td>\n",
       "      <td>60388.000000</td>\n",
       "    </tr>\n",
       "    <tr>\n",
       "      <th>mean</th>\n",
       "      <td>14.762453</td>\n",
       "      <td>2.774409</td>\n",
       "    </tr>\n",
       "    <tr>\n",
       "      <th>std</th>\n",
       "      <td>848.603701</td>\n",
       "      <td>180.628724</td>\n",
       "    </tr>\n",
       "    <tr>\n",
       "      <th>min</th>\n",
       "      <td>0.000000</td>\n",
       "      <td>0.000000</td>\n",
       "    </tr>\n",
       "    <tr>\n",
       "      <th>25%</th>\n",
       "      <td>0.000000</td>\n",
       "      <td>0.000000</td>\n",
       "    </tr>\n",
       "    <tr>\n",
       "      <th>50%</th>\n",
       "      <td>0.000000</td>\n",
       "      <td>0.000000</td>\n",
       "    </tr>\n",
       "    <tr>\n",
       "      <th>75%</th>\n",
       "      <td>1.000000</td>\n",
       "      <td>0.000000</td>\n",
       "    </tr>\n",
       "    <tr>\n",
       "      <th>max</th>\n",
       "      <td>149646.000000</td>\n",
       "      <td>41881.000000</td>\n",
       "    </tr>\n",
       "  </tbody>\n",
       "</table>\n",
       "</div>"
      ],
      "text/plain": [
       "          like count  retweet count\n",
       "count   60388.000000   60388.000000\n",
       "mean       14.762453       2.774409\n",
       "std       848.603701     180.628724\n",
       "min         0.000000       0.000000\n",
       "25%         0.000000       0.000000\n",
       "50%         0.000000       0.000000\n",
       "75%         1.000000       0.000000\n",
       "max    149646.000000   41881.000000"
      ]
     },
     "execution_count": 26,
     "metadata": {},
     "output_type": "execute_result"
    }
   ],
   "source": [
    "#statistical description of numericals\n",
    "df.describe()"
   ]
  },
  {
   "cell_type": "code",
   "execution_count": 27,
   "id": "8999d656",
   "metadata": {},
   "outputs": [
    {
     "data": {
      "text/plain": [
       "Date             0\n",
       "User             0\n",
       "Tweets           0\n",
       "like count       0\n",
       "retweet count    0\n",
       "dtype: int64"
      ]
     },
     "execution_count": 27,
     "metadata": {},
     "output_type": "execute_result"
    }
   ],
   "source": [
    "#check null\n",
    "df.isnull().sum()"
   ]
  },
  {
   "cell_type": "code",
   "execution_count": 28,
   "id": "7461be08",
   "metadata": {},
   "outputs": [
    {
     "data": {
      "text/plain": [
       "Date             57337\n",
       "User             43075\n",
       "Tweets           55285\n",
       "like count         475\n",
       "retweet count      223\n",
       "dtype: int64"
      ]
     },
     "execution_count": 28,
     "metadata": {},
     "output_type": "execute_result"
    }
   ],
   "source": [
    "#number of unique entities\n",
    "df.nunique()"
   ]
  },
  {
   "cell_type": "code",
   "execution_count": 29,
   "id": "470364b9",
   "metadata": {},
   "outputs": [
    {
     "name": "stdout",
     "output_type": "stream",
     "text": [
      "{'and', 'my', 'you', 'd', 'won', 'into', \"mustn't\", 'are', 'own', 'during', 'up', 'off', 'how', 'theirs', \"should've\", 'a', 'nor', 'haven', 'very', \"shouldn't\", 'yours', 'why', 'under', \"you'd\", \"couldn't\", 'him', \"won't\", 'below', 'there', 'now', 'this', 'our', 'she', 'out', 'over', 'just', 'wasn', 'it', 'other', 'hers', 'had', 'an', 'when', 'of', 'more', 'o', 'ourselves', 'doing', \"weren't\", 'needn', 'with', 'they', 'yourselves', 'was', 'me', 'have', \"it's\", 'few', 'themselves', 'we', 'were', 'mustn', \"don't\", 'but', 'both', 'or', 'doesn', 'itself', 'in', 'again', 'through', 'who', 'i', 'did', 'above', 'wouldn', 'once', 'the', 'he', 'until', \"you'll\", 'most', 'didn', 'aren', \"she's\", 'further', 'at', 'for', 'their', 'some', 'yourself', 't', 'what', 'herself', 'weren', 'so', \"shan't\", 'y', 'against', 'is', 'does', 'while', \"doesn't\", 'shan', \"that'll\", 'such', 'has', 'because', 've', 'then', \"aren't\", 'that', 'no', 'from', 'her', 'be', 'if', \"didn't\", 'couldn', 'do', \"wouldn't\", 's', 'where', 'each', 'after', 'here', 'not', 'his', \"needn't\", \"haven't\", 'by', 'any', 'can', 'mightn', 'down', 'ma', 'being', \"wasn't\", 'shouldn', \"you've\", 'hadn', 'am', 'about', 'myself', 'those', 'isn', 'ain', 'll', 'as', 'been', \"hadn't\", \"hasn't\", \"you're\", 'too', 'than', \"isn't\", 'its', 'ours', 'all', 'having', 'which', 'whom', 'to', 'will', 'hasn', 'should', 'these', 'on', 'only', 'between', 'don', 'm', 'your', 'before', 're', \"mightn't\", 'them', 'himself', 'same'}\n"
     ]
    }
   ],
   "source": [
    "stop_words=set(stopwords.words('english'))\n",
    "print(stop_words)"
   ]
  },
  {
   "cell_type": "markdown",
   "id": "4f432a1f",
   "metadata": {},
   "source": [
    "## Data Cleaning"
   ]
  },
  {
   "cell_type": "code",
   "execution_count": 30,
   "id": "b481920e",
   "metadata": {},
   "outputs": [
    {
     "name": "stderr",
     "output_type": "stream",
     "text": [
      "C:\\Users\\AbdirahmanMohamedOma\\AppData\\Local\\Temp\\ipykernel_16808\\1677256868.py:2: FutureWarning: The default value of regex will change from True to False in a future version.\n",
      "  df['Tweets'] = df['Tweets'].str.replace(r'\\s*https?://\\S+(\\s+|$)', ' ').str.strip()\n"
     ]
    }
   ],
   "source": [
    "#Removing https url links from the end of tweets\n",
    "df['Tweets'] = df['Tweets'].str.replace(r'\\s*https?://\\S+(\\s+|$)', ' ').str.strip()"
   ]
  },
  {
   "cell_type": "markdown",
   "id": "2bd55120",
   "metadata": {},
   "source": [
    "### Test cleansing"
   ]
  },
  {
   "cell_type": "code",
   "execution_count": 31,
   "id": "fc98e9c0",
   "metadata": {},
   "outputs": [
    {
     "data": {
      "text/plain": [
       "'If You Can Spend $8 @Starbucks \\nYou Can Spend $8 @TwitterBlue\\n@elonmusk \\n\\n#RAYCTwitterBlue #RAYC #HuPePe \\n#Starbucks #RareApepeYC\\n#TwitterTakeover #TwitterBlue'"
      ]
     },
     "execution_count": 31,
     "metadata": {},
     "output_type": "execute_result"
    }
   ],
   "source": [
    "#Test tweet for cleaning\n",
    "#test was successful\n",
    "test=df['Tweets'][3]\n",
    "test"
   ]
  },
  {
   "cell_type": "code",
   "execution_count": 32,
   "id": "1194f74f",
   "metadata": {},
   "outputs": [
    {
     "data": {
      "text/plain": [
       "'If You Can Spend $8 You Can Spend $8'"
      ]
     },
     "execution_count": 32,
     "metadata": {},
     "output_type": "execute_result"
    }
   ],
   "source": [
    "# cleaning using regular expressions(re) for # and @ for all lowercase words uppercae numbers etc\n",
    "cleantweets=re.sub(r'@[a-zA-Z0-9]+','',test)\n",
    "cleantweets=re.sub(r'#[a-zA-Z0-9\\s]+','',cleantweets)\n",
    "cleantweets=' '.join(word for word in cleantweets.split() if word not in stop_words)\n",
    "cleantweets"
   ]
  },
  {
   "cell_type": "markdown",
   "id": "c5e1ecb5",
   "metadata": {},
   "source": [
    "### Applied cleaning"
   ]
  },
  {
   "cell_type": "code",
   "execution_count": 33,
   "id": "5e8d6edf",
   "metadata": {},
   "outputs": [],
   "source": [
    "# cleaning using regular expressions(re) for # and @ for all lowercase words uppercae numbers etc\n",
    "def CleanTweets(Tweets):\n",
    "    cleantweets=re.sub(r'@[a-zA-Z0-9]+','',Tweets)\n",
    "    cleantweets=re.sub(r'#[a-zA-Z0-9\\s]+','',cleantweets)\n",
    "    cleantweets=' '.join(word for word in cleantweets.split() if word not in stop_words)\n",
    "    return cleantweets"
   ]
  },
  {
   "cell_type": "code",
   "execution_count": 34,
   "id": "e83f7cd9",
   "metadata": {},
   "outputs": [
    {
     "data": {
      "text/html": [
       "<div>\n",
       "<style scoped>\n",
       "    .dataframe tbody tr th:only-of-type {\n",
       "        vertical-align: middle;\n",
       "    }\n",
       "\n",
       "    .dataframe tbody tr th {\n",
       "        vertical-align: top;\n",
       "    }\n",
       "\n",
       "    .dataframe thead th {\n",
       "        text-align: right;\n",
       "    }\n",
       "</style>\n",
       "<table border=\"1\" class=\"dataframe\">\n",
       "  <thead>\n",
       "    <tr style=\"text-align: right;\">\n",
       "      <th></th>\n",
       "      <th>Date</th>\n",
       "      <th>User</th>\n",
       "      <th>Tweets</th>\n",
       "      <th>like count</th>\n",
       "      <th>retweet count</th>\n",
       "      <th>Clean Tweets</th>\n",
       "    </tr>\n",
       "  </thead>\n",
       "  <tbody>\n",
       "    <tr>\n",
       "      <th>0</th>\n",
       "      <td>2022-11-26 23:55:44+00:00</td>\n",
       "      <td>mrbigkyle</td>\n",
       "      <td>Trick shot final kill\\n\\n#CallofDuty #ModernWa...</td>\n",
       "      <td>6</td>\n",
       "      <td>2</td>\n",
       "      <td>Trick shot final kill</td>\n",
       "    </tr>\n",
       "    <tr>\n",
       "      <th>1</th>\n",
       "      <td>2022-11-26 23:52:54+00:00</td>\n",
       "      <td>rogerokeeffe</td>\n",
       "      <td>Looks as if Irish #Mastodon is NOT the place t...</td>\n",
       "      <td>2</td>\n",
       "      <td>0</td>\n",
       "      <td>Looks Irish .</td>\n",
       "    </tr>\n",
       "    <tr>\n",
       "      <th>2</th>\n",
       "      <td>2022-11-26 23:47:04+00:00</td>\n",
       "      <td>Jose28396145</td>\n",
       "      <td>It shouldn’t be that hard #TwitterTakeover</td>\n",
       "      <td>0</td>\n",
       "      <td>0</td>\n",
       "      <td>It shouldn’t hard</td>\n",
       "    </tr>\n",
       "    <tr>\n",
       "      <th>3</th>\n",
       "      <td>2022-11-26 23:39:04+00:00</td>\n",
       "      <td>LetMeBeFranketh</td>\n",
       "      <td>If You Can Spend $8 @Starbucks \\nYou Can Spend...</td>\n",
       "      <td>15</td>\n",
       "      <td>3</td>\n",
       "      <td>If You Can Spend $8 You Can Spend $8</td>\n",
       "    </tr>\n",
       "    <tr>\n",
       "      <th>4</th>\n",
       "      <td>2022-11-26 23:26:14+00:00</td>\n",
       "      <td>JuliejTarot</td>\n",
       "      <td>@DeppSoldier_22 I do. That’s why #AmberHeardls...</td>\n",
       "      <td>1</td>\n",
       "      <td>0</td>\n",
       "      <td>_22 I do. That’s &amp;amp; left.. Twitter next big...</td>\n",
       "    </tr>\n",
       "    <tr>\n",
       "      <th>...</th>\n",
       "      <td>...</td>\n",
       "      <td>...</td>\n",
       "      <td>...</td>\n",
       "      <td>...</td>\n",
       "      <td>...</td>\n",
       "      <td>...</td>\n",
       "    </tr>\n",
       "    <tr>\n",
       "      <th>60383</th>\n",
       "      <td>2022-10-27 01:01:50+00:00</td>\n",
       "      <td>thedailygripe_</td>\n",
       "      <td>@libsoftiktok @elonmusk #Memes #Memelords #Mem...</td>\n",
       "      <td>61</td>\n",
       "      <td>18</td>\n",
       "      <td></td>\n",
       "    </tr>\n",
       "    <tr>\n",
       "      <th>60384</th>\n",
       "      <td>2022-10-27 01:01:05+00:00</td>\n",
       "      <td>NationFirstAust</td>\n",
       "      <td>Hey @elonmusk — if you need to someone to head...</td>\n",
       "      <td>4</td>\n",
       "      <td>0</td>\n",
       "      <td>Hey — need someone head &amp;amp; censorship, DM m...</td>\n",
       "    </tr>\n",
       "    <tr>\n",
       "      <th>60385</th>\n",
       "      <td>2022-10-27 00:30:12+00:00</td>\n",
       "      <td>LaLaLand1974</td>\n",
       "      <td>Soon as @elonmusk is done it’s no longer Twitt...</td>\n",
       "      <td>2</td>\n",
       "      <td>0</td>\n",
       "      <td>Soon done it’s longer Twitter it’s</td>\n",
       "    </tr>\n",
       "    <tr>\n",
       "      <th>60386</th>\n",
       "      <td>2022-10-27 00:23:14+00:00</td>\n",
       "      <td>lildiamondgoat</td>\n",
       "      <td>@elonmusk be pulling up to the twitter HQ. Let...</td>\n",
       "      <td>0</td>\n",
       "      <td>0</td>\n",
       "      <td>pulling twitter HQ. Let's pull well..</td>\n",
       "    </tr>\n",
       "    <tr>\n",
       "      <th>60387</th>\n",
       "      <td>2022-10-27 00:10:38+00:00</td>\n",
       "      <td>RechteMeinung</td>\n",
       "      <td>Unser Erlöser und Retter! Gerade rechtzeitig f...</td>\n",
       "      <td>0</td>\n",
       "      <td>0</td>\n",
       "      <td>Unser Erlöser und Retter! Gerade rechtzeitig f...</td>\n",
       "    </tr>\n",
       "  </tbody>\n",
       "</table>\n",
       "<p>60388 rows × 6 columns</p>\n",
       "</div>"
      ],
      "text/plain": [
       "                           Date             User  \\\n",
       "0     2022-11-26 23:55:44+00:00        mrbigkyle   \n",
       "1     2022-11-26 23:52:54+00:00     rogerokeeffe   \n",
       "2     2022-11-26 23:47:04+00:00     Jose28396145   \n",
       "3     2022-11-26 23:39:04+00:00  LetMeBeFranketh   \n",
       "4     2022-11-26 23:26:14+00:00      JuliejTarot   \n",
       "...                         ...              ...   \n",
       "60383 2022-10-27 01:01:50+00:00   thedailygripe_   \n",
       "60384 2022-10-27 01:01:05+00:00  NationFirstAust   \n",
       "60385 2022-10-27 00:30:12+00:00     LaLaLand1974   \n",
       "60386 2022-10-27 00:23:14+00:00   lildiamondgoat   \n",
       "60387 2022-10-27 00:10:38+00:00    RechteMeinung   \n",
       "\n",
       "                                                  Tweets  like count  \\\n",
       "0      Trick shot final kill\\n\\n#CallofDuty #ModernWa...           6   \n",
       "1      Looks as if Irish #Mastodon is NOT the place t...           2   \n",
       "2             It shouldn’t be that hard #TwitterTakeover           0   \n",
       "3      If You Can Spend $8 @Starbucks \\nYou Can Spend...          15   \n",
       "4      @DeppSoldier_22 I do. That’s why #AmberHeardls...           1   \n",
       "...                                                  ...         ...   \n",
       "60383  @libsoftiktok @elonmusk #Memes #Memelords #Mem...          61   \n",
       "60384  Hey @elonmusk — if you need to someone to head...           4   \n",
       "60385  Soon as @elonmusk is done it’s no longer Twitt...           2   \n",
       "60386  @elonmusk be pulling up to the twitter HQ. Let...           0   \n",
       "60387  Unser Erlöser und Retter! Gerade rechtzeitig f...           0   \n",
       "\n",
       "       retweet count                                       Clean Tweets  \n",
       "0                  2                              Trick shot final kill  \n",
       "1                  0                                      Looks Irish .  \n",
       "2                  0                                  It shouldn’t hard  \n",
       "3                  3               If You Can Spend $8 You Can Spend $8  \n",
       "4                  0  _22 I do. That’s &amp; left.. Twitter next big...  \n",
       "...              ...                                                ...  \n",
       "60383             18                                                     \n",
       "60384              0  Hey — need someone head &amp; censorship, DM m...  \n",
       "60385              0                 Soon done it’s longer Twitter it’s  \n",
       "60386              0              pulling twitter HQ. Let's pull well..  \n",
       "60387              0  Unser Erlöser und Retter! Gerade rechtzeitig f...  \n",
       "\n",
       "[60388 rows x 6 columns]"
      ]
     },
     "execution_count": 34,
     "metadata": {},
     "output_type": "execute_result"
    }
   ],
   "source": [
    "#applying clean tweet function to dataset\n",
    "df['Clean Tweets']=df['Tweets'].apply(CleanTweets)\n",
    "df"
   ]
  },
  {
   "cell_type": "code",
   "execution_count": 47,
   "id": "f016adbd",
   "metadata": {},
   "outputs": [],
   "source": [
    "#using language detect library to create a function that detects language of tweets\n",
    "from langdetect import detect\n",
    "def language_detect(text):\n",
    "    try:\n",
    "        return detect(text)\n",
    "    except:\n",
    "        return 'unknown'"
   ]
  },
  {
   "cell_type": "code",
   "execution_count": 48,
   "id": "0c983e4b",
   "metadata": {},
   "outputs": [],
   "source": [
    "#applied the function to the previously cleaned tweets\n",
    "df['language'] = df['Clean Tweets'].apply(language_detect)"
   ]
  },
  {
   "cell_type": "code",
   "execution_count": 49,
   "id": "80b1af8f",
   "metadata": {},
   "outputs": [
    {
     "data": {
      "text/html": [
       "<div>\n",
       "<style scoped>\n",
       "    .dataframe tbody tr th:only-of-type {\n",
       "        vertical-align: middle;\n",
       "    }\n",
       "\n",
       "    .dataframe tbody tr th {\n",
       "        vertical-align: top;\n",
       "    }\n",
       "\n",
       "    .dataframe thead th {\n",
       "        text-align: right;\n",
       "    }\n",
       "</style>\n",
       "<table border=\"1\" class=\"dataframe\">\n",
       "  <thead>\n",
       "    <tr style=\"text-align: right;\">\n",
       "      <th></th>\n",
       "      <th>Date</th>\n",
       "      <th>User</th>\n",
       "      <th>Tweets</th>\n",
       "      <th>like count</th>\n",
       "      <th>retweet count</th>\n",
       "      <th>Clean Tweets</th>\n",
       "      <th>language</th>\n",
       "    </tr>\n",
       "  </thead>\n",
       "  <tbody>\n",
       "    <tr>\n",
       "      <th>60383</th>\n",
       "      <td>2022-10-27 01:01:50+00:00</td>\n",
       "      <td>thedailygripe_</td>\n",
       "      <td>@libsoftiktok @elonmusk #Memes #Memelords #Mem...</td>\n",
       "      <td>61</td>\n",
       "      <td>18</td>\n",
       "      <td></td>\n",
       "      <td>unknown</td>\n",
       "    </tr>\n",
       "    <tr>\n",
       "      <th>60384</th>\n",
       "      <td>2022-10-27 01:01:05+00:00</td>\n",
       "      <td>NationFirstAust</td>\n",
       "      <td>Hey @elonmusk — if you need to someone to head...</td>\n",
       "      <td>4</td>\n",
       "      <td>0</td>\n",
       "      <td>Hey — need someone head &amp;amp; censorship, DM m...</td>\n",
       "      <td>en</td>\n",
       "    </tr>\n",
       "    <tr>\n",
       "      <th>60385</th>\n",
       "      <td>2022-10-27 00:30:12+00:00</td>\n",
       "      <td>LaLaLand1974</td>\n",
       "      <td>Soon as @elonmusk is done it’s no longer Twitt...</td>\n",
       "      <td>2</td>\n",
       "      <td>0</td>\n",
       "      <td>Soon done it’s longer Twitter it’s</td>\n",
       "      <td>en</td>\n",
       "    </tr>\n",
       "    <tr>\n",
       "      <th>60386</th>\n",
       "      <td>2022-10-27 00:23:14+00:00</td>\n",
       "      <td>lildiamondgoat</td>\n",
       "      <td>@elonmusk be pulling up to the twitter HQ. Let...</td>\n",
       "      <td>0</td>\n",
       "      <td>0</td>\n",
       "      <td>pulling twitter HQ. Let's pull well..</td>\n",
       "      <td>en</td>\n",
       "    </tr>\n",
       "    <tr>\n",
       "      <th>60387</th>\n",
       "      <td>2022-10-27 00:10:38+00:00</td>\n",
       "      <td>RechteMeinung</td>\n",
       "      <td>Unser Erlöser und Retter! Gerade rechtzeitig f...</td>\n",
       "      <td>0</td>\n",
       "      <td>0</td>\n",
       "      <td>Unser Erlöser und Retter! Gerade rechtzeitig f...</td>\n",
       "      <td>de</td>\n",
       "    </tr>\n",
       "  </tbody>\n",
       "</table>\n",
       "</div>"
      ],
      "text/plain": [
       "                           Date             User  \\\n",
       "60383 2022-10-27 01:01:50+00:00   thedailygripe_   \n",
       "60384 2022-10-27 01:01:05+00:00  NationFirstAust   \n",
       "60385 2022-10-27 00:30:12+00:00     LaLaLand1974   \n",
       "60386 2022-10-27 00:23:14+00:00   lildiamondgoat   \n",
       "60387 2022-10-27 00:10:38+00:00    RechteMeinung   \n",
       "\n",
       "                                                  Tweets  like count  \\\n",
       "60383  @libsoftiktok @elonmusk #Memes #Memelords #Mem...          61   \n",
       "60384  Hey @elonmusk — if you need to someone to head...           4   \n",
       "60385  Soon as @elonmusk is done it’s no longer Twitt...           2   \n",
       "60386  @elonmusk be pulling up to the twitter HQ. Let...           0   \n",
       "60387  Unser Erlöser und Retter! Gerade rechtzeitig f...           0   \n",
       "\n",
       "       retweet count                                       Clean Tweets  \\\n",
       "60383             18                                                      \n",
       "60384              0  Hey — need someone head &amp; censorship, DM m...   \n",
       "60385              0                 Soon done it’s longer Twitter it’s   \n",
       "60386              0              pulling twitter HQ. Let's pull well..   \n",
       "60387              0  Unser Erlöser und Retter! Gerade rechtzeitig f...   \n",
       "\n",
       "      language  \n",
       "60383  unknown  \n",
       "60384       en  \n",
       "60385       en  \n",
       "60386       en  \n",
       "60387       de  "
      ]
     },
     "execution_count": 49,
     "metadata": {},
     "output_type": "execute_result"
    }
   ],
   "source": [
    "df.tail()"
   ]
  },
  {
   "cell_type": "code",
   "execution_count": 50,
   "id": "01f08a1a",
   "metadata": {},
   "outputs": [],
   "source": [
    "#Filtering the language to english only \n",
    "en_df=df[df['language']=='en']"
   ]
  },
  {
   "cell_type": "code",
   "execution_count": 51,
   "id": "b5c14399",
   "metadata": {},
   "outputs": [],
   "source": [
    "#reset index of new english tweets dataset\n",
    "en_df=en_df.reset_index()"
   ]
  },
  {
   "cell_type": "code",
   "execution_count": 52,
   "id": "f25be8be",
   "metadata": {},
   "outputs": [
    {
     "name": "stdout",
     "output_type": "stream",
     "text": [
      "<class 'pandas.core.frame.DataFrame'>\n",
      "RangeIndex: 35931 entries, 0 to 35930\n",
      "Data columns (total 8 columns):\n",
      " #   Column         Non-Null Count  Dtype              \n",
      "---  ------         --------------  -----              \n",
      " 0   index          35931 non-null  int64              \n",
      " 1   Date           35931 non-null  datetime64[ns, UTC]\n",
      " 2   User           35931 non-null  object             \n",
      " 3   Tweets         35931 non-null  object             \n",
      " 4   like count     35931 non-null  int64              \n",
      " 5   retweet count  35931 non-null  int64              \n",
      " 6   Clean Tweets   35931 non-null  object             \n",
      " 7   language       35931 non-null  object             \n",
      "dtypes: datetime64[ns, UTC](1), int64(3), object(4)\n",
      "memory usage: 2.2+ MB\n"
     ]
    }
   ],
   "source": [
    "en_df.info()"
   ]
  },
  {
   "cell_type": "code",
   "execution_count": 53,
   "id": "86aa3aa2",
   "metadata": {},
   "outputs": [
    {
     "data": {
      "text/plain": [
       "(35931, 8)"
      ]
     },
     "execution_count": 53,
     "metadata": {},
     "output_type": "execute_result"
    }
   ],
   "source": [
    "#Checking number of rows and columns again\n",
    "en_df.shape"
   ]
  },
  {
   "cell_type": "code",
   "execution_count": 54,
   "id": "ecd568c4",
   "metadata": {},
   "outputs": [
    {
     "data": {
      "text/plain": [
       "index            35931\n",
       "Date             34837\n",
       "User             26120\n",
       "Tweets           35123\n",
       "like count         343\n",
       "retweet count      163\n",
       "Clean Tweets     34594\n",
       "language             1\n",
       "dtype: int64"
      ]
     },
     "execution_count": 54,
     "metadata": {},
     "output_type": "execute_result"
    }
   ],
   "source": [
    "#Checking number of unique tweets to get dataset to fit that\n",
    "en_df.nunique()"
   ]
  },
  {
   "cell_type": "code",
   "execution_count": 55,
   "id": "d2f00414",
   "metadata": {},
   "outputs": [],
   "source": [
    "#Final Cleaned data set with dropped duplicates and reset index \n",
    "en_dfcleaned=en_df.drop_duplicates(subset=['Clean Tweets'],keep=('first')).reset_index()\n",
    "en_df_cleaned=en_dfcleaned.drop(['level_0','index'],axis=1)"
   ]
  },
  {
   "cell_type": "code",
   "execution_count": 56,
   "id": "0cfe7132",
   "metadata": {},
   "outputs": [
    {
     "data": {
      "text/html": [
       "<div>\n",
       "<style scoped>\n",
       "    .dataframe tbody tr th:only-of-type {\n",
       "        vertical-align: middle;\n",
       "    }\n",
       "\n",
       "    .dataframe tbody tr th {\n",
       "        vertical-align: top;\n",
       "    }\n",
       "\n",
       "    .dataframe thead th {\n",
       "        text-align: right;\n",
       "    }\n",
       "</style>\n",
       "<table border=\"1\" class=\"dataframe\">\n",
       "  <thead>\n",
       "    <tr style=\"text-align: right;\">\n",
       "      <th></th>\n",
       "      <th>Date</th>\n",
       "      <th>User</th>\n",
       "      <th>Tweets</th>\n",
       "      <th>like count</th>\n",
       "      <th>retweet count</th>\n",
       "      <th>Clean Tweets</th>\n",
       "      <th>language</th>\n",
       "    </tr>\n",
       "  </thead>\n",
       "  <tbody>\n",
       "    <tr>\n",
       "      <th>0</th>\n",
       "      <td>2022-11-26 23:55:44+00:00</td>\n",
       "      <td>mrbigkyle</td>\n",
       "      <td>Trick shot final kill\\n\\n#CallofDuty #ModernWa...</td>\n",
       "      <td>6</td>\n",
       "      <td>2</td>\n",
       "      <td>Trick shot final kill</td>\n",
       "      <td>en</td>\n",
       "    </tr>\n",
       "    <tr>\n",
       "      <th>1</th>\n",
       "      <td>2022-11-26 23:52:54+00:00</td>\n",
       "      <td>rogerokeeffe</td>\n",
       "      <td>Looks as if Irish #Mastodon is NOT the place t...</td>\n",
       "      <td>2</td>\n",
       "      <td>0</td>\n",
       "      <td>Looks Irish .</td>\n",
       "      <td>en</td>\n",
       "    </tr>\n",
       "    <tr>\n",
       "      <th>2</th>\n",
       "      <td>2022-11-26 23:47:04+00:00</td>\n",
       "      <td>Jose28396145</td>\n",
       "      <td>It shouldn’t be that hard #TwitterTakeover</td>\n",
       "      <td>0</td>\n",
       "      <td>0</td>\n",
       "      <td>It shouldn’t hard</td>\n",
       "      <td>en</td>\n",
       "    </tr>\n",
       "    <tr>\n",
       "      <th>3</th>\n",
       "      <td>2022-11-26 23:39:04+00:00</td>\n",
       "      <td>LetMeBeFranketh</td>\n",
       "      <td>If You Can Spend $8 @Starbucks \\nYou Can Spend...</td>\n",
       "      <td>15</td>\n",
       "      <td>3</td>\n",
       "      <td>If You Can Spend $8 You Can Spend $8</td>\n",
       "      <td>en</td>\n",
       "    </tr>\n",
       "    <tr>\n",
       "      <th>4</th>\n",
       "      <td>2022-11-26 23:26:14+00:00</td>\n",
       "      <td>JuliejTarot</td>\n",
       "      <td>@DeppSoldier_22 I do. That’s why #AmberHeardls...</td>\n",
       "      <td>1</td>\n",
       "      <td>0</td>\n",
       "      <td>_22 I do. That’s &amp;amp; left.. Twitter next big...</td>\n",
       "      <td>en</td>\n",
       "    </tr>\n",
       "    <tr>\n",
       "      <th>...</th>\n",
       "      <td>...</td>\n",
       "      <td>...</td>\n",
       "      <td>...</td>\n",
       "      <td>...</td>\n",
       "      <td>...</td>\n",
       "      <td>...</td>\n",
       "      <td>...</td>\n",
       "    </tr>\n",
       "    <tr>\n",
       "      <th>34589</th>\n",
       "      <td>2022-10-27 01:30:05+00:00</td>\n",
       "      <td>MagnumO28311564</td>\n",
       "      <td>75% of the Twitter corporate employees ..poof\\...</td>\n",
       "      <td>0</td>\n",
       "      <td>0</td>\n",
       "      <td>75% Twitter corporate employees ..poof</td>\n",
       "      <td>en</td>\n",
       "    </tr>\n",
       "    <tr>\n",
       "      <th>34590</th>\n",
       "      <td>2022-10-27 01:14:53+00:00</td>\n",
       "      <td>MelyanaKlue</td>\n",
       "      <td>It is happening!  Finally!  Do I hear angels s...</td>\n",
       "      <td>2</td>\n",
       "      <td>2</td>\n",
       "      <td>It happening! Finally! Do I hear angels singin...</td>\n",
       "      <td>en</td>\n",
       "    </tr>\n",
       "    <tr>\n",
       "      <th>34591</th>\n",
       "      <td>2022-10-27 01:01:05+00:00</td>\n",
       "      <td>NationFirstAust</td>\n",
       "      <td>Hey @elonmusk — if you need to someone to head...</td>\n",
       "      <td>4</td>\n",
       "      <td>0</td>\n",
       "      <td>Hey — need someone head &amp;amp; censorship, DM m...</td>\n",
       "      <td>en</td>\n",
       "    </tr>\n",
       "    <tr>\n",
       "      <th>34592</th>\n",
       "      <td>2022-10-27 00:30:12+00:00</td>\n",
       "      <td>LaLaLand1974</td>\n",
       "      <td>Soon as @elonmusk is done it’s no longer Twitt...</td>\n",
       "      <td>2</td>\n",
       "      <td>0</td>\n",
       "      <td>Soon done it’s longer Twitter it’s</td>\n",
       "      <td>en</td>\n",
       "    </tr>\n",
       "    <tr>\n",
       "      <th>34593</th>\n",
       "      <td>2022-10-27 00:23:14+00:00</td>\n",
       "      <td>lildiamondgoat</td>\n",
       "      <td>@elonmusk be pulling up to the twitter HQ. Let...</td>\n",
       "      <td>0</td>\n",
       "      <td>0</td>\n",
       "      <td>pulling twitter HQ. Let's pull well..</td>\n",
       "      <td>en</td>\n",
       "    </tr>\n",
       "  </tbody>\n",
       "</table>\n",
       "<p>34594 rows × 7 columns</p>\n",
       "</div>"
      ],
      "text/plain": [
       "                           Date             User  \\\n",
       "0     2022-11-26 23:55:44+00:00        mrbigkyle   \n",
       "1     2022-11-26 23:52:54+00:00     rogerokeeffe   \n",
       "2     2022-11-26 23:47:04+00:00     Jose28396145   \n",
       "3     2022-11-26 23:39:04+00:00  LetMeBeFranketh   \n",
       "4     2022-11-26 23:26:14+00:00      JuliejTarot   \n",
       "...                         ...              ...   \n",
       "34589 2022-10-27 01:30:05+00:00  MagnumO28311564   \n",
       "34590 2022-10-27 01:14:53+00:00      MelyanaKlue   \n",
       "34591 2022-10-27 01:01:05+00:00  NationFirstAust   \n",
       "34592 2022-10-27 00:30:12+00:00     LaLaLand1974   \n",
       "34593 2022-10-27 00:23:14+00:00   lildiamondgoat   \n",
       "\n",
       "                                                  Tweets  like count  \\\n",
       "0      Trick shot final kill\\n\\n#CallofDuty #ModernWa...           6   \n",
       "1      Looks as if Irish #Mastodon is NOT the place t...           2   \n",
       "2             It shouldn’t be that hard #TwitterTakeover           0   \n",
       "3      If You Can Spend $8 @Starbucks \\nYou Can Spend...          15   \n",
       "4      @DeppSoldier_22 I do. That’s why #AmberHeardls...           1   \n",
       "...                                                  ...         ...   \n",
       "34589  75% of the Twitter corporate employees ..poof\\...           0   \n",
       "34590  It is happening!  Finally!  Do I hear angels s...           2   \n",
       "34591  Hey @elonmusk — if you need to someone to head...           4   \n",
       "34592  Soon as @elonmusk is done it’s no longer Twitt...           2   \n",
       "34593  @elonmusk be pulling up to the twitter HQ. Let...           0   \n",
       "\n",
       "       retweet count                                       Clean Tweets  \\\n",
       "0                  2                              Trick shot final kill   \n",
       "1                  0                                      Looks Irish .   \n",
       "2                  0                                  It shouldn’t hard   \n",
       "3                  3               If You Can Spend $8 You Can Spend $8   \n",
       "4                  0  _22 I do. That’s &amp; left.. Twitter next big...   \n",
       "...              ...                                                ...   \n",
       "34589              0             75% Twitter corporate employees ..poof   \n",
       "34590              2  It happening! Finally! Do I hear angels singin...   \n",
       "34591              0  Hey — need someone head &amp; censorship, DM m...   \n",
       "34592              0                 Soon done it’s longer Twitter it’s   \n",
       "34593              0              pulling twitter HQ. Let's pull well..   \n",
       "\n",
       "      language  \n",
       "0           en  \n",
       "1           en  \n",
       "2           en  \n",
       "3           en  \n",
       "4           en  \n",
       "...        ...  \n",
       "34589       en  \n",
       "34590       en  \n",
       "34591       en  \n",
       "34592       en  \n",
       "34593       en  \n",
       "\n",
       "[34594 rows x 7 columns]"
      ]
     },
     "execution_count": 56,
     "metadata": {},
     "output_type": "execute_result"
    }
   ],
   "source": [
    "en_df_cleaned"
   ]
  },
  {
   "cell_type": "markdown",
   "id": "31faa3b9",
   "metadata": {},
   "source": [
    "## Sentiment Analysis"
   ]
  },
  {
   "cell_type": "code",
   "execution_count": 57,
   "id": "dc72781a",
   "metadata": {},
   "outputs": [],
   "source": [
    "#sentiment Analysis creating functions for polarity, subjectivity and sentiment based on polarity\n",
    "#Polarity is float which lies in the range of [-1,1] where 1 means positive statement and -1 means a negative statement.\n",
    "#Subjective sentences generally refer to personal opinion, emotion or judgment whereas objective refers to factual information. Subjectivity is also a float which lies in the range of [0,1].\n",
    "def calPolarity(tweet):\n",
    "    return TextBlob(tweet).sentiment.polarity\n",
    "\n",
    "def calSubjectivity(tweet):\n",
    "    return TextBlob(tweet).sentiment.subjectivity\n",
    "\n",
    "def sentiment(tweet):\n",
    "    if tweet > 0:\n",
    "        return \"positive\"\n",
    "    if tweet == 0:\n",
    "        return \"neutral\"\n",
    "    else:\n",
    "        return \"negative\""
   ]
  },
  {
   "cell_type": "code",
   "execution_count": 59,
   "id": "02cc9afc",
   "metadata": {},
   "outputs": [],
   "source": [
    "#Functions applied to the columns and added to the dataframe\n",
    "en_df_cleaned['polarity'] = en_df_cleaned['Clean Tweets'].apply(calPolarity)\n",
    "en_df_cleaned['subjectivity'] = en_df_cleaned['Clean Tweets'].apply(calSubjectivity)\n",
    "en_df_cleaned['sentiment'] = en_df_cleaned['polarity'].apply(sentiment)"
   ]
  },
  {
   "cell_type": "code",
   "execution_count": 62,
   "id": "94b3256b",
   "metadata": {
    "scrolled": true
   },
   "outputs": [
    {
     "data": {
      "text/html": [
       "<div>\n",
       "<style scoped>\n",
       "    .dataframe tbody tr th:only-of-type {\n",
       "        vertical-align: middle;\n",
       "    }\n",
       "\n",
       "    .dataframe tbody tr th {\n",
       "        vertical-align: top;\n",
       "    }\n",
       "\n",
       "    .dataframe thead th {\n",
       "        text-align: right;\n",
       "    }\n",
       "</style>\n",
       "<table border=\"1\" class=\"dataframe\">\n",
       "  <thead>\n",
       "    <tr style=\"text-align: right;\">\n",
       "      <th></th>\n",
       "      <th>Date</th>\n",
       "      <th>User</th>\n",
       "      <th>Tweets</th>\n",
       "      <th>like count</th>\n",
       "      <th>retweet count</th>\n",
       "      <th>Clean Tweets</th>\n",
       "      <th>language</th>\n",
       "      <th>polarity</th>\n",
       "      <th>subjectivity</th>\n",
       "      <th>sentiment</th>\n",
       "    </tr>\n",
       "  </thead>\n",
       "  <tbody>\n",
       "    <tr>\n",
       "      <th>0</th>\n",
       "      <td>2022-11-26 23:55:44+00:00</td>\n",
       "      <td>mrbigkyle</td>\n",
       "      <td>Trick shot final kill\\n\\n#CallofDuty #ModernWa...</td>\n",
       "      <td>6</td>\n",
       "      <td>2</td>\n",
       "      <td>Trick shot final kill</td>\n",
       "      <td>en</td>\n",
       "      <td>0.000000</td>\n",
       "      <td>1.000000</td>\n",
       "      <td>neutral</td>\n",
       "    </tr>\n",
       "    <tr>\n",
       "      <th>1</th>\n",
       "      <td>2022-11-26 23:52:54+00:00</td>\n",
       "      <td>rogerokeeffe</td>\n",
       "      <td>Looks as if Irish #Mastodon is NOT the place t...</td>\n",
       "      <td>2</td>\n",
       "      <td>0</td>\n",
       "      <td>Looks Irish .</td>\n",
       "      <td>en</td>\n",
       "      <td>0.000000</td>\n",
       "      <td>0.000000</td>\n",
       "      <td>neutral</td>\n",
       "    </tr>\n",
       "    <tr>\n",
       "      <th>2</th>\n",
       "      <td>2022-11-26 23:47:04+00:00</td>\n",
       "      <td>Jose28396145</td>\n",
       "      <td>It shouldn’t be that hard #TwitterTakeover</td>\n",
       "      <td>0</td>\n",
       "      <td>0</td>\n",
       "      <td>It shouldn’t hard</td>\n",
       "      <td>en</td>\n",
       "      <td>-0.291667</td>\n",
       "      <td>0.541667</td>\n",
       "      <td>negative</td>\n",
       "    </tr>\n",
       "    <tr>\n",
       "      <th>3</th>\n",
       "      <td>2022-11-26 23:39:04+00:00</td>\n",
       "      <td>LetMeBeFranketh</td>\n",
       "      <td>If You Can Spend $8 @Starbucks \\nYou Can Spend...</td>\n",
       "      <td>15</td>\n",
       "      <td>3</td>\n",
       "      <td>If You Can Spend $8 You Can Spend $8</td>\n",
       "      <td>en</td>\n",
       "      <td>0.000000</td>\n",
       "      <td>0.000000</td>\n",
       "      <td>neutral</td>\n",
       "    </tr>\n",
       "    <tr>\n",
       "      <th>4</th>\n",
       "      <td>2022-11-26 23:26:14+00:00</td>\n",
       "      <td>JuliejTarot</td>\n",
       "      <td>@DeppSoldier_22 I do. That’s why #AmberHeardls...</td>\n",
       "      <td>1</td>\n",
       "      <td>0</td>\n",
       "      <td>_22 I do. That’s &amp;amp; left.. Twitter next big...</td>\n",
       "      <td>en</td>\n",
       "      <td>0.000000</td>\n",
       "      <td>0.033333</td>\n",
       "      <td>neutral</td>\n",
       "    </tr>\n",
       "  </tbody>\n",
       "</table>\n",
       "</div>"
      ],
      "text/plain": [
       "                       Date             User  \\\n",
       "0 2022-11-26 23:55:44+00:00        mrbigkyle   \n",
       "1 2022-11-26 23:52:54+00:00     rogerokeeffe   \n",
       "2 2022-11-26 23:47:04+00:00     Jose28396145   \n",
       "3 2022-11-26 23:39:04+00:00  LetMeBeFranketh   \n",
       "4 2022-11-26 23:26:14+00:00      JuliejTarot   \n",
       "\n",
       "                                              Tweets  like count  \\\n",
       "0  Trick shot final kill\\n\\n#CallofDuty #ModernWa...           6   \n",
       "1  Looks as if Irish #Mastodon is NOT the place t...           2   \n",
       "2         It shouldn’t be that hard #TwitterTakeover           0   \n",
       "3  If You Can Spend $8 @Starbucks \\nYou Can Spend...          15   \n",
       "4  @DeppSoldier_22 I do. That’s why #AmberHeardls...           1   \n",
       "\n",
       "   retweet count                                       Clean Tweets language  \\\n",
       "0              2                              Trick shot final kill       en   \n",
       "1              0                                      Looks Irish .       en   \n",
       "2              0                                  It shouldn’t hard       en   \n",
       "3              3               If You Can Spend $8 You Can Spend $8       en   \n",
       "4              0  _22 I do. That’s &amp; left.. Twitter next big...       en   \n",
       "\n",
       "   polarity  subjectivity sentiment  \n",
       "0  0.000000      1.000000   neutral  \n",
       "1  0.000000      0.000000   neutral  \n",
       "2 -0.291667      0.541667  negative  \n",
       "3  0.000000      0.000000   neutral  \n",
       "4  0.000000      0.033333   neutral  "
      ]
     },
     "execution_count": 62,
     "metadata": {},
     "output_type": "execute_result"
    }
   ],
   "source": [
    "en_df_cleaned.head()"
   ]
  },
  {
   "cell_type": "code",
   "execution_count": 63,
   "id": "755a1597",
   "metadata": {},
   "outputs": [
    {
     "data": {
      "text/html": [
       "<div>\n",
       "<style scoped>\n",
       "    .dataframe tbody tr th:only-of-type {\n",
       "        vertical-align: middle;\n",
       "    }\n",
       "\n",
       "    .dataframe tbody tr th {\n",
       "        vertical-align: top;\n",
       "    }\n",
       "\n",
       "    .dataframe thead th {\n",
       "        text-align: right;\n",
       "    }\n",
       "</style>\n",
       "<table border=\"1\" class=\"dataframe\">\n",
       "  <thead>\n",
       "    <tr style=\"text-align: right;\">\n",
       "      <th></th>\n",
       "      <th>sentiment</th>\n",
       "    </tr>\n",
       "    <tr>\n",
       "      <th>sentiment</th>\n",
       "      <th></th>\n",
       "    </tr>\n",
       "  </thead>\n",
       "  <tbody>\n",
       "    <tr>\n",
       "      <th>negative</th>\n",
       "      <td>5806</td>\n",
       "    </tr>\n",
       "    <tr>\n",
       "      <th>neutral</th>\n",
       "      <td>13487</td>\n",
       "    </tr>\n",
       "    <tr>\n",
       "      <th>positive</th>\n",
       "      <td>15301</td>\n",
       "    </tr>\n",
       "  </tbody>\n",
       "</table>\n",
       "</div>"
      ],
      "text/plain": [
       "           sentiment\n",
       "sentiment           \n",
       "negative        5806\n",
       "neutral        13487\n",
       "positive       15301"
      ]
     },
     "execution_count": 63,
     "metadata": {},
     "output_type": "execute_result"
    }
   ],
   "source": [
    "#Small table of sentiments\n",
    "sen_df=en_df_cleaned.pivot_table(index=['sentiment'],aggfunc={'sentiment':'count'})\n",
    "sen_df"
   ]
  },
  {
   "cell_type": "code",
   "execution_count": 64,
   "id": "dbcdc0f1",
   "metadata": {},
   "outputs": [
    {
     "data": {
      "text/plain": [
       "(array([0, 1, 2]),\n",
       " [Text(0, 0, 'negative'), Text(1, 0, 'neutral'), Text(2, 0, 'positive')])"
      ]
     },
     "execution_count": 64,
     "metadata": {},
     "output_type": "execute_result"
    },
    {
     "data": {
      "image/png": "[encoded data removed]",
      "text/plain": [
       "<Figure size 432x288 with 1 Axes>"
      ]
     },
     "metadata": {
      "needs_background": "light"
     },
     "output_type": "display_data"
    }
   ],
   "source": [
    "#bar plot of sentiments\n",
    "sen_df.plot(kind='bar')\n",
    "plt.xticks(rotation=0)"
   ]
  },
  {
   "cell_type": "code",
   "execution_count": 65,
   "id": "c4c4fc04",
   "metadata": {},
   "outputs": [
    {
     "data": {
      "text/html": [
       "<div>\n",
       "<style scoped>\n",
       "    .dataframe tbody tr th:only-of-type {\n",
       "        vertical-align: middle;\n",
       "    }\n",
       "\n",
       "    .dataframe tbody tr th {\n",
       "        vertical-align: top;\n",
       "    }\n",
       "\n",
       "    .dataframe thead th {\n",
       "        text-align: right;\n",
       "    }\n",
       "</style>\n",
       "<table border=\"1\" class=\"dataframe\">\n",
       "  <thead>\n",
       "    <tr style=\"text-align: right;\">\n",
       "      <th></th>\n",
       "      <th>Date</th>\n",
       "      <th>User</th>\n",
       "      <th>Tweets</th>\n",
       "      <th>like count</th>\n",
       "      <th>retweet count</th>\n",
       "      <th>Clean Tweets</th>\n",
       "      <th>language</th>\n",
       "      <th>polarity</th>\n",
       "      <th>subjectivity</th>\n",
       "      <th>sentiment</th>\n",
       "    </tr>\n",
       "  </thead>\n",
       "  <tbody>\n",
       "    <tr>\n",
       "      <th>32965</th>\n",
       "      <td>2022-10-28 04:16:02+00:00</td>\n",
       "      <td>sandeshP98</td>\n",
       "      <td>Best thing happened ❤️\\n#TwitterTakeover #ELON...</td>\n",
       "      <td>0</td>\n",
       "      <td>0</td>\n",
       "      <td>Best thing happened ❤️</td>\n",
       "      <td>en</td>\n",
       "      <td>1.0</td>\n",
       "      <td>0.3</td>\n",
       "      <td>positive</td>\n",
       "    </tr>\n",
       "    <tr>\n",
       "      <th>6674</th>\n",
       "      <td>2022-11-18 07:44:33+00:00</td>\n",
       "      <td>seo_faiza_jamil</td>\n",
       "      <td>Elon is the best thing that has ever happened ...</td>\n",
       "      <td>5</td>\n",
       "      <td>0</td>\n",
       "      <td>Elon best thing ever happened Twitter🐦</td>\n",
       "      <td>en</td>\n",
       "      <td>1.0</td>\n",
       "      <td>0.3</td>\n",
       "      <td>positive</td>\n",
       "    </tr>\n",
       "    <tr>\n",
       "      <th>30334</th>\n",
       "      <td>2022-10-28 08:33:02+00:00</td>\n",
       "      <td>Multivisie</td>\n",
       "      <td>I think its best to leave #Twitter we can not ...</td>\n",
       "      <td>0</td>\n",
       "      <td>0</td>\n",
       "      <td>I think best leave , treath democracy</td>\n",
       "      <td>en</td>\n",
       "      <td>1.0</td>\n",
       "      <td>0.3</td>\n",
       "      <td>positive</td>\n",
       "    </tr>\n",
       "  </tbody>\n",
       "</table>\n",
       "</div>"
      ],
      "text/plain": [
       "                           Date             User  \\\n",
       "32965 2022-10-28 04:16:02+00:00       sandeshP98   \n",
       "6674  2022-11-18 07:44:33+00:00  seo_faiza_jamil   \n",
       "30334 2022-10-28 08:33:02+00:00       Multivisie   \n",
       "\n",
       "                                                  Tweets  like count  \\\n",
       "32965  Best thing happened ❤️\\n#TwitterTakeover #ELON...           0   \n",
       "6674   Elon is the best thing that has ever happened ...           5   \n",
       "30334  I think its best to leave #Twitter we can not ...           0   \n",
       "\n",
       "       retweet count                            Clean Tweets language  \\\n",
       "32965              0                  Best thing happened ❤️       en   \n",
       "6674               0  Elon best thing ever happened Twitter🐦       en   \n",
       "30334              0   I think best leave , treath democracy       en   \n",
       "\n",
       "       polarity  subjectivity sentiment  \n",
       "32965       1.0           0.3  positive  \n",
       "6674        1.0           0.3  positive  \n",
       "30334       1.0           0.3  positive  "
      ]
     },
     "execution_count": 65,
     "metadata": {},
     "output_type": "execute_result"
    }
   ],
   "source": [
    "#top 3 most positive\n",
    "en_df_cleaned.sort_values(by=['polarity'],ascending=False).head(3)"
   ]
  },
  {
   "cell_type": "code",
   "execution_count": 68,
   "id": "b6cdb51f",
   "metadata": {},
   "outputs": [
    {
     "data": {
      "text/html": [
       "<div>\n",
       "<style scoped>\n",
       "    .dataframe tbody tr th:only-of-type {\n",
       "        vertical-align: middle;\n",
       "    }\n",
       "\n",
       "    .dataframe tbody tr th {\n",
       "        vertical-align: top;\n",
       "    }\n",
       "\n",
       "    .dataframe thead th {\n",
       "        text-align: right;\n",
       "    }\n",
       "</style>\n",
       "<table border=\"1\" class=\"dataframe\">\n",
       "  <thead>\n",
       "    <tr style=\"text-align: right;\">\n",
       "      <th></th>\n",
       "      <th>Date</th>\n",
       "      <th>User</th>\n",
       "      <th>Tweets</th>\n",
       "      <th>like count</th>\n",
       "      <th>retweet count</th>\n",
       "      <th>Clean Tweets</th>\n",
       "      <th>language</th>\n",
       "      <th>polarity</th>\n",
       "      <th>subjectivity</th>\n",
       "      <th>sentiment</th>\n",
       "    </tr>\n",
       "  </thead>\n",
       "  <tbody>\n",
       "    <tr>\n",
       "      <th>28384</th>\n",
       "      <td>2022-10-28 13:05:50+00:00</td>\n",
       "      <td>BrettLamberth88</td>\n",
       "      <td>Get rid of these horrific ad accounts @elonmus...</td>\n",
       "      <td>0</td>\n",
       "      <td>0</td>\n",
       "      <td>Get rid horrific ad accounts . Thank you.</td>\n",
       "      <td>en</td>\n",
       "      <td>-1.0</td>\n",
       "      <td>1.0</td>\n",
       "      <td>negative</td>\n",
       "    </tr>\n",
       "    <tr>\n",
       "      <th>13015</th>\n",
       "      <td>2022-11-09 12:44:11+00:00</td>\n",
       "      <td>DuhWinningTroll</td>\n",
       "      <td>After loosing 11,000 employees maybe it’s time...</td>\n",
       "      <td>1</td>\n",
       "      <td>0</td>\n",
       "      <td>After loosing 11,000 employees maybe it’s time...</td>\n",
       "      <td>en</td>\n",
       "      <td>-1.0</td>\n",
       "      <td>1.0</td>\n",
       "      <td>negative</td>\n",
       "    </tr>\n",
       "    <tr>\n",
       "      <th>3514</th>\n",
       "      <td>2022-11-18 19:29:50+00:00</td>\n",
       "      <td>qitweets</td>\n",
       "      <td>Elon Musk reinstates anti-trans psychologist J...</td>\n",
       "      <td>4</td>\n",
       "      <td>5</td>\n",
       "      <td>Elon Musk reinstates anti-trans psychologist J...</td>\n",
       "      <td>en</td>\n",
       "      <td>-1.0</td>\n",
       "      <td>1.0</td>\n",
       "      <td>negative</td>\n",
       "    </tr>\n",
       "  </tbody>\n",
       "</table>\n",
       "</div>"
      ],
      "text/plain": [
       "                           Date             User  \\\n",
       "28384 2022-10-28 13:05:50+00:00  BrettLamberth88   \n",
       "13015 2022-11-09 12:44:11+00:00  DuhWinningTroll   \n",
       "3514  2022-11-18 19:29:50+00:00         qitweets   \n",
       "\n",
       "                                                  Tweets  like count  \\\n",
       "28384  Get rid of these horrific ad accounts @elonmus...           0   \n",
       "13015  After loosing 11,000 employees maybe it’s time...           1   \n",
       "3514   Elon Musk reinstates anti-trans psychologist J...           4   \n",
       "\n",
       "       retweet count                                       Clean Tweets  \\\n",
       "28384              0          Get rid horrific ad accounts . Thank you.   \n",
       "13015              0  After loosing 11,000 employees maybe it’s time...   \n",
       "3514               5  Elon Musk reinstates anti-trans psychologist J...   \n",
       "\n",
       "      language  polarity  subjectivity sentiment  \n",
       "28384       en      -1.0           1.0  negative  \n",
       "13015       en      -1.0           1.0  negative  \n",
       "3514        en      -1.0           1.0  negative  "
      ]
     },
     "execution_count": 68,
     "metadata": {},
     "output_type": "execute_result"
    }
   ],
   "source": [
    "#top 1 most negative\n",
    "en_df_cleaned.sort_values(by=['polarity'],ascending=True).head(3)"
   ]
  },
  {
   "cell_type": "code",
   "execution_count": 69,
   "id": "b80803c9",
   "metadata": {},
   "outputs": [
    {
     "data": {
      "text/plain": [
       "<function matplotlib.pyplot.show(close=None, block=None)>"
      ]
     },
     "execution_count": 69,
     "metadata": {},
     "output_type": "execute_result"
    },
    {
     "data": {
      "image/png": "[encoded data removed]",
      "text/plain": [
       "<Figure size 432x288 with 1 Axes>"
      ]
     },
     "metadata": {
      "needs_background": "light"
     },
     "output_type": "display_data"
    }
   ],
   "source": [
    "wordlist=' '.join([tweet for tweet in en_df_cleaned['Clean Tweets']])\n",
    "\n",
    "wordcloud=WordCloud(background_color='white',width=400,height=200,random_state=20,max_font_size=120).generate(wordlist)\n",
    "\n",
    "plt.imshow(wordcloud,interpolation='bilinear')\n",
    "plt.axis('off')\n",
    "plt.show"
   ]
  },
  {
   "cell_type": "markdown",
   "id": "e992ed08",
   "metadata": {},
   "source": [
    "## Export CSV"
   ]
  },
  {
   "cell_type": "code",
   "execution_count": 70,
   "id": "ab7f7fc8",
   "metadata": {},
   "outputs": [],
   "source": [
    "en_df_cleaned=en_df_cleaned.reset_index()"
   ]
  },
  {
   "cell_type": "code",
   "execution_count": 71,
   "id": "1f47364e",
   "metadata": {},
   "outputs": [],
   "source": [
    "en_df_cleaned.to_csv('sentimentproject.csv')"
   ]
  },
  {
   "cell_type": "code",
   "execution_count": 73,
   "id": "e93a5ccf",
   "metadata": {},
   "outputs": [
    {
     "data": {
      "text/html": [
       "<div>\n",
       "<style scoped>\n",
       "    .dataframe tbody tr th:only-of-type {\n",
       "        vertical-align: middle;\n",
       "    }\n",
       "\n",
       "    .dataframe tbody tr th {\n",
       "        vertical-align: top;\n",
       "    }\n",
       "\n",
       "    .dataframe thead th {\n",
       "        text-align: right;\n",
       "    }\n",
       "</style>\n",
       "<table border=\"1\" class=\"dataframe\">\n",
       "  <thead>\n",
       "    <tr style=\"text-align: right;\">\n",
       "      <th></th>\n",
       "      <th>index</th>\n",
       "      <th>Date</th>\n",
       "      <th>User</th>\n",
       "      <th>Tweets</th>\n",
       "      <th>like count</th>\n",
       "      <th>retweet count</th>\n",
       "      <th>Clean Tweets</th>\n",
       "      <th>language</th>\n",
       "      <th>polarity</th>\n",
       "      <th>subjectivity</th>\n",
       "      <th>sentiment</th>\n",
       "    </tr>\n",
       "  </thead>\n",
       "  <tbody>\n",
       "    <tr>\n",
       "      <th>0</th>\n",
       "      <td>0</td>\n",
       "      <td>2022-11-26 23:55:44+00:00</td>\n",
       "      <td>mrbigkyle</td>\n",
       "      <td>Trick shot final kill\\n\\n#CallofDuty #ModernWa...</td>\n",
       "      <td>6</td>\n",
       "      <td>2</td>\n",
       "      <td>Trick shot final kill</td>\n",
       "      <td>en</td>\n",
       "      <td>0.000000</td>\n",
       "      <td>1.000000</td>\n",
       "      <td>neutral</td>\n",
       "    </tr>\n",
       "    <tr>\n",
       "      <th>1</th>\n",
       "      <td>1</td>\n",
       "      <td>2022-11-26 23:52:54+00:00</td>\n",
       "      <td>rogerokeeffe</td>\n",
       "      <td>Looks as if Irish #Mastodon is NOT the place t...</td>\n",
       "      <td>2</td>\n",
       "      <td>0</td>\n",
       "      <td>Looks Irish .</td>\n",
       "      <td>en</td>\n",
       "      <td>0.000000</td>\n",
       "      <td>0.000000</td>\n",
       "      <td>neutral</td>\n",
       "    </tr>\n",
       "    <tr>\n",
       "      <th>2</th>\n",
       "      <td>2</td>\n",
       "      <td>2022-11-26 23:47:04+00:00</td>\n",
       "      <td>Jose28396145</td>\n",
       "      <td>It shouldn’t be that hard #TwitterTakeover</td>\n",
       "      <td>0</td>\n",
       "      <td>0</td>\n",
       "      <td>It shouldn’t hard</td>\n",
       "      <td>en</td>\n",
       "      <td>-0.291667</td>\n",
       "      <td>0.541667</td>\n",
       "      <td>negative</td>\n",
       "    </tr>\n",
       "    <tr>\n",
       "      <th>3</th>\n",
       "      <td>3</td>\n",
       "      <td>2022-11-26 23:39:04+00:00</td>\n",
       "      <td>LetMeBeFranketh</td>\n",
       "      <td>If You Can Spend $8 @Starbucks \\nYou Can Spend...</td>\n",
       "      <td>15</td>\n",
       "      <td>3</td>\n",
       "      <td>If You Can Spend $8 You Can Spend $8</td>\n",
       "      <td>en</td>\n",
       "      <td>0.000000</td>\n",
       "      <td>0.000000</td>\n",
       "      <td>neutral</td>\n",
       "    </tr>\n",
       "    <tr>\n",
       "      <th>4</th>\n",
       "      <td>4</td>\n",
       "      <td>2022-11-26 23:26:14+00:00</td>\n",
       "      <td>JuliejTarot</td>\n",
       "      <td>@DeppSoldier_22 I do. That’s why #AmberHeardls...</td>\n",
       "      <td>1</td>\n",
       "      <td>0</td>\n",
       "      <td>_22 I do. That’s &amp;amp; left.. Twitter next big...</td>\n",
       "      <td>en</td>\n",
       "      <td>0.000000</td>\n",
       "      <td>0.033333</td>\n",
       "      <td>neutral</td>\n",
       "    </tr>\n",
       "  </tbody>\n",
       "</table>\n",
       "</div>"
      ],
      "text/plain": [
       "   index                      Date             User  \\\n",
       "0      0 2022-11-26 23:55:44+00:00        mrbigkyle   \n",
       "1      1 2022-11-26 23:52:54+00:00     rogerokeeffe   \n",
       "2      2 2022-11-26 23:47:04+00:00     Jose28396145   \n",
       "3      3 2022-11-26 23:39:04+00:00  LetMeBeFranketh   \n",
       "4      4 2022-11-26 23:26:14+00:00      JuliejTarot   \n",
       "\n",
       "                                              Tweets  like count  \\\n",
       "0  Trick shot final kill\\n\\n#CallofDuty #ModernWa...           6   \n",
       "1  Looks as if Irish #Mastodon is NOT the place t...           2   \n",
       "2         It shouldn’t be that hard #TwitterTakeover           0   \n",
       "3  If You Can Spend $8 @Starbucks \\nYou Can Spend...          15   \n",
       "4  @DeppSoldier_22 I do. That’s why #AmberHeardls...           1   \n",
       "\n",
       "   retweet count                                       Clean Tweets language  \\\n",
       "0              2                              Trick shot final kill       en   \n",
       "1              0                                      Looks Irish .       en   \n",
       "2              0                                  It shouldn’t hard       en   \n",
       "3              3               If You Can Spend $8 You Can Spend $8       en   \n",
       "4              0  _22 I do. That’s &amp; left.. Twitter next big...       en   \n",
       "\n",
       "   polarity  subjectivity sentiment  \n",
       "0  0.000000      1.000000   neutral  \n",
       "1  0.000000      0.000000   neutral  \n",
       "2 -0.291667      0.541667  negative  \n",
       "3  0.000000      0.000000   neutral  \n",
       "4  0.000000      0.033333   neutral  "
      ]
     },
     "execution_count": 73,
     "metadata": {},
     "output_type": "execute_result"
    }
   ],
   "source": [
    "en_df_cleaned.head()"
   ]
  }
 ],
 "metadata": {
  "kernelspec": {
   "display_name": "Python 3 (ipykernel)",
   "language": "python",
   "name": "python3"
  },
  "language_info": {
   "codemirror_mode": {
    "name": "ipython",
    "version": 3
   },
   "file_extension": ".py",
   "mimetype": "text/x-python",
   "name": "python",
   "nbconvert_exporter": "python",
   "pygments_lexer": "ipython3",
   "version": "3.9.12"
  }
 },
 "nbformat": 4,
 "nbformat_minor": 5
}
